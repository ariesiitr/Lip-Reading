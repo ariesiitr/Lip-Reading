{
 "cells": [
  {
   "cell_type": "code",
   "execution_count": 1,
   "id": "c57dfcef",
   "metadata": {},
   "outputs": [
    {
     "name": "stdout",
     "output_type": "stream",
     "text": [
      "arn:aws:iam::900263416875:role/service-role/AmazonSageMaker-ExecutionRole-20210507T020928\n"
     ]
    }
   ],
   "source": [
    "import sagemaker\n",
    "from sagemaker import get_execution_role\n",
    "\n",
    "role = get_execution_role()\n",
    "print(role)\n",
    "sess = sagemaker.Session()"
   ]
  },
  {
   "cell_type": "code",
   "execution_count": 2,
   "id": "39d86743",
   "metadata": {},
   "outputs": [
    {
     "name": "stdout",
     "output_type": "stream",
     "text": [
      "data/grid-corpus-lipreading.zip\n"
     ]
    }
   ],
   "source": [
    "import boto3\n",
    "import botocore\n",
    "\n",
    "BUCKET_NAME = 'lip-reading'\n",
    "KEY = #'data/grid-corpus-lipreading.zip'\n",
    "\n",
    "s3 = boto3.resource('s3', region_name='ap-south-1')\n",
    "bucket = s3.Bucket(BUCKET_NAME)\n",
    "for my_bucket_object in bucket.objects.all():    \n",
    "    KEY = my_bucket_object.key    \n",
    "    print(key)\n",
    "    \n",
    "try:\n",
    "    s3.Bucket(BUCKET_NAME).download_file(KEY, 'dataset.zip')\n",
    "except botocore.exceptions.ClientError as e:\n",
    "    if e.response['Error']['Code'] == \"404\":\n",
    "        print(\"The object does not exist.\")\n",
    "    else:\n",
    "        raise\n",
    "        \n",
    "!unzip dataset.zip"
   ]
  },
  {
   "cell_type": "code",
   "execution_count": null,
   "id": "e4123fa8",
   "metadata": {},
   "outputs": [],
   "source": []
  }
 ],
 "metadata": {
  "kernelspec": {
   "display_name": "conda_python3",
   "language": "python",
   "name": "conda_python3"
  },
  "language_info": {
   "codemirror_mode": {
    "name": "ipython",
    "version": 3
   },
   "file_extension": ".py",
   "mimetype": "text/x-python",
   "name": "python",
   "nbconvert_exporter": "python",
   "pygments_lexer": "ipython3",
   "version": "3.6.13"
  }
 },
 "nbformat": 4,
 "nbformat_minor": 5
}
