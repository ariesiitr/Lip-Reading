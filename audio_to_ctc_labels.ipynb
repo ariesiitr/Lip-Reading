{
 "cells": [
  {
   "cell_type": "code",
   "execution_count": 1,
   "metadata": {},
   "outputs": [
    {
     "name": "stdout",
     "output_type": "stream",
     "text": [
      "Requirement already satisfied: transformers==4.3.2 in c:\\users\\kushbab\\anaconda3\\envs\\lip-reading\\lib\\site-packages (4.3.2)\n",
      "Requirement already satisfied: regex!=2019.12.17 in c:\\users\\kushbab\\appdata\\roaming\\python\\python37\\site-packages (from transformers==4.3.2) (2020.11.13)\n",
      "Requirement already satisfied: tqdm>=4.27 in c:\\users\\kushbab\\appdata\\roaming\\python\\python37\\site-packages (from transformers==4.3.2) (4.54.1)\n",
      "Requirement already satisfied: sacremoses in c:\\users\\kushbab\\appdata\\roaming\\python\\python37\\site-packages (from transformers==4.3.2) (0.0.43)\n",
      "Requirement already satisfied: requests in c:\\users\\kushbab\\anaconda3\\envs\\lip-reading\\lib\\site-packages (from transformers==4.3.2) (2.25.1)\n",
      "Requirement already satisfied: importlib-metadata in c:\\users\\kushbab\\anaconda3\\envs\\lip-reading\\lib\\site-packages (from transformers==4.3.2) (3.10.0)\n",
      "Requirement already satisfied: tokenizers<0.11,>=0.10.1 in c:\\users\\kushbab\\anaconda3\\envs\\lip-reading\\lib\\site-packages (from transformers==4.3.2) (0.10.2)\n",
      "Requirement already satisfied: filelock in c:\\users\\kushbab\\appdata\\roaming\\python\\python37\\site-packages (from transformers==4.3.2) (3.0.12)\n",
      "Requirement already satisfied: packaging in c:\\users\\kushbab\\appdata\\roaming\\python\\python37\\site-packages (from transformers==4.3.2) (20.8)\n",
      "Requirement already satisfied: numpy>=1.17 in c:\\users\\kushbab\\appdata\\roaming\\python\\python37\\site-packages (from transformers==4.3.2) (1.19.5)\n",
      "Requirement already satisfied: typing-extensions>=3.6.4 in c:\\users\\kushbab\\anaconda3\\envs\\lip-reading\\lib\\site-packages (from importlib-metadata->transformers==4.3.2) (3.7.4.3)\n",
      "Requirement already satisfied: zipp>=0.5 in c:\\users\\kushbab\\anaconda3\\envs\\lip-reading\\lib\\site-packages (from importlib-metadata->transformers==4.3.2) (3.4.1)\n",
      "Requirement already satisfied: pyparsing>=2.0.2 in c:\\users\\kushbab\\appdata\\roaming\\python\\python37\\site-packages (from packaging->transformers==4.3.2) (2.4.7)\n",
      "Requirement already satisfied: chardet<5,>=3.0.2 in c:\\users\\kushbab\\anaconda3\\envs\\lip-reading\\lib\\site-packages (from requests->transformers==4.3.2) (4.0.0)\n",
      "Requirement already satisfied: urllib3<1.27,>=1.21.1 in c:\\users\\kushbab\\anaconda3\\envs\\lip-reading\\lib\\site-packages (from requests->transformers==4.3.2) (1.26.4)\n",
      "Requirement already satisfied: idna<3,>=2.5 in c:\\users\\kushbab\\anaconda3\\envs\\lip-reading\\lib\\site-packages (from requests->transformers==4.3.2) (2.10)\n",
      "Requirement already satisfied: certifi>=2017.4.17 in c:\\users\\kushbab\\anaconda3\\envs\\lip-reading\\lib\\site-packages (from requests->transformers==4.3.2) (2020.12.5)\n",
      "Requirement already satisfied: click in c:\\users\\kushbab\\appdata\\roaming\\python\\python37\\site-packages (from sacremoses->transformers==4.3.2) (7.1.2)\n",
      "Requirement already satisfied: six in c:\\users\\kushbab\\anaconda3\\envs\\lip-reading\\lib\\site-packages (from sacremoses->transformers==4.3.2) (1.15.0)\n",
      "Requirement already satisfied: joblib in c:\\users\\kushbab\\appdata\\roaming\\python\\python37\\site-packages (from sacremoses->transformers==4.3.2) (1.0.0)\n"
     ]
    }
   ],
   "source": [
    "!pip install transformers==4.3.2"
   ]
  },
  {
   "cell_type": "code",
   "execution_count": 2,
   "metadata": {},
   "outputs": [
    {
     "name": "stdout",
     "output_type": "stream",
     "text": [
      "Collecting torch==1.7\n",
      "  Using cached torch-1.7.0-cp37-cp37m-win_amd64.whl (184.0 MB)\n",
      "Note: you may need to restart the kernel to use updated packages.\n"
     ]
    },
    {
     "name": "stderr",
     "output_type": "stream",
     "text": [
      "ERROR: torch has an invalid wheel, .dist-info directory not found\n"
     ]
    }
   ],
   "source": [
    "pip install torch==1.7"
   ]
  },
  {
   "cell_type": "code",
   "execution_count": 3,
   "metadata": {},
   "outputs": [
    {
     "name": "stdout",
     "output_type": "stream",
     "text": [
      "Requirement already satisfied: tensorflow-gpu in c:\\users\\kushbab\\appdata\\roaming\\python\\python37\\site-packages (2.4.1)\n",
      "Requirement already satisfied: six~=1.15.0 in c:\\users\\kushbab\\anaconda3\\envs\\lip-reading\\lib\\site-packages (from tensorflow-gpu) (1.15.0)\n",
      "Requirement already satisfied: gast==0.3.3 in c:\\users\\kushbab\\appdata\\roaming\\python\\python37\\site-packages (from tensorflow-gpu) (0.3.3)\n",
      "Requirement already satisfied: protobuf>=3.9.2 in c:\\users\\kushbab\\anaconda3\\envs\\lip-reading\\lib\\site-packages (from tensorflow-gpu) (3.15.8)\n",
      "Requirement already satisfied: astunparse~=1.6.3 in c:\\users\\kushbab\\appdata\\roaming\\python\\python37\\site-packages (from tensorflow-gpu) (1.6.3)\n",
      "Requirement already satisfied: termcolor~=1.1.0 in c:\\users\\kushbab\\appdata\\roaming\\python\\python37\\site-packages (from tensorflow-gpu) (1.1.0)\n",
      "Requirement already satisfied: wheel~=0.35 in c:\\users\\kushbab\\anaconda3\\envs\\lip-reading\\lib\\site-packages (from tensorflow-gpu) (0.36.2)\n",
      "Requirement already satisfied: typing-extensions~=3.7.4 in c:\\users\\kushbab\\anaconda3\\envs\\lip-reading\\lib\\site-packages (from tensorflow-gpu) (3.7.4.3)\n",
      "Requirement already satisfied: h5py~=2.10.0 in c:\\users\\kushbab\\appdata\\roaming\\python\\python37\\site-packages (from tensorflow-gpu) (2.10.0)\n",
      "Requirement already satisfied: tensorflow-estimator<2.5.0,>=2.4.0 in c:\\users\\kushbab\\appdata\\roaming\\python\\python37\\site-packages (from tensorflow-gpu) (2.4.0)\n",
      "Requirement already satisfied: grpcio~=1.32.0 in c:\\users\\kushbab\\appdata\\roaming\\python\\python37\\site-packages (from tensorflow-gpu) (1.32.0)\n",
      "Requirement already satisfied: keras-preprocessing~=1.1.2 in c:\\users\\kushbab\\appdata\\roaming\\python\\python37\\site-packages (from tensorflow-gpu) (1.1.2)\n",
      "Requirement already satisfied: opt-einsum~=3.3.0 in c:\\users\\kushbab\\appdata\\roaming\\python\\python37\\site-packages (from tensorflow-gpu) (3.3.0)\n",
      "Requirement already satisfied: numpy~=1.19.2 in c:\\users\\kushbab\\appdata\\roaming\\python\\python37\\site-packages (from tensorflow-gpu) (1.19.5)\n",
      "Requirement already satisfied: wrapt~=1.12.1 in c:\\users\\kushbab\\appdata\\roaming\\python\\python37\\site-packages (from tensorflow-gpu) (1.12.1)\n",
      "Requirement already satisfied: flatbuffers~=1.12.0 in c:\\users\\kushbab\\appdata\\roaming\\python\\python37\\site-packages (from tensorflow-gpu) (1.12)\n",
      "Requirement already satisfied: tensorboard~=2.4 in c:\\users\\kushbab\\appdata\\roaming\\python\\python37\\site-packages (from tensorflow-gpu) (2.4.1)\n",
      "Requirement already satisfied: google-pasta~=0.2 in c:\\users\\kushbab\\appdata\\roaming\\python\\python37\\site-packages (from tensorflow-gpu) (0.2.0)\n",
      "Requirement already satisfied: absl-py~=0.10 in c:\\users\\kushbab\\appdata\\roaming\\python\\python37\\site-packages (from tensorflow-gpu) (0.12.0)\n",
      "Requirement already satisfied: setuptools>=41.0.0 in c:\\users\\kushbab\\anaconda3\\envs\\lip-reading\\lib\\site-packages (from tensorboard~=2.4->tensorflow-gpu) (52.0.0.post20210125)\n",
      "Requirement already satisfied: werkzeug>=0.11.15 in c:\\users\\kushbab\\anaconda3\\envs\\lip-reading\\lib\\site-packages (from tensorboard~=2.4->tensorflow-gpu) (1.0.1)\n",
      "Requirement already satisfied: markdown>=2.6.8 in c:\\users\\kushbab\\appdata\\roaming\\python\\python37\\site-packages (from tensorboard~=2.4->tensorflow-gpu) (3.3.4)\n",
      "Requirement already satisfied: tensorboard-plugin-wit>=1.6.0 in c:\\users\\kushbab\\anaconda3\\envs\\lip-reading\\lib\\site-packages (from tensorboard~=2.4->tensorflow-gpu) (1.8.0)\n",
      "Requirement already satisfied: google-auth<2,>=1.6.3 in c:\\users\\kushbab\\anaconda3\\envs\\lip-reading\\lib\\site-packages (from tensorboard~=2.4->tensorflow-gpu) (1.29.0)\n",
      "Requirement already satisfied: requests<3,>=2.21.0 in c:\\users\\kushbab\\anaconda3\\envs\\lip-reading\\lib\\site-packages (from tensorboard~=2.4->tensorflow-gpu) (2.25.1)\n",
      "Requirement already satisfied: google-auth-oauthlib<0.5,>=0.4.1 in c:\\users\\kushbab\\appdata\\roaming\\python\\python37\\site-packages (from tensorboard~=2.4->tensorflow-gpu) (0.4.4)\n",
      "Requirement already satisfied: cachetools<5.0,>=2.0.0 in c:\\users\\kushbab\\anaconda3\\envs\\lip-reading\\lib\\site-packages (from google-auth<2,>=1.6.3->tensorboard~=2.4->tensorflow-gpu) (4.2.1)\n",
      "Requirement already satisfied: pyasn1-modules>=0.2.1 in c:\\users\\kushbab\\anaconda3\\envs\\lip-reading\\lib\\site-packages (from google-auth<2,>=1.6.3->tensorboard~=2.4->tensorflow-gpu) (0.2.8)\n",
      "Requirement already satisfied: rsa<5,>=3.1.4 in c:\\users\\kushbab\\anaconda3\\envs\\lip-reading\\lib\\site-packages (from google-auth<2,>=1.6.3->tensorboard~=2.4->tensorflow-gpu) (4.7.2)\n",
      "Requirement already satisfied: requests-oauthlib>=0.7.0 in c:\\users\\kushbab\\anaconda3\\envs\\lip-reading\\lib\\site-packages (from google-auth-oauthlib<0.5,>=0.4.1->tensorboard~=2.4->tensorflow-gpu) (1.3.0)\n",
      "Requirement already satisfied: importlib-metadata in c:\\users\\kushbab\\anaconda3\\envs\\lip-reading\\lib\\site-packages (from markdown>=2.6.8->tensorboard~=2.4->tensorflow-gpu) (3.10.0)\n",
      "Requirement already satisfied: pyasn1<0.5.0,>=0.4.6 in c:\\users\\kushbab\\anaconda3\\envs\\lip-reading\\lib\\site-packages (from pyasn1-modules>=0.2.1->google-auth<2,>=1.6.3->tensorboard~=2.4->tensorflow-gpu) (0.4.8)\n",
      "Requirement already satisfied: idna<3,>=2.5 in c:\\users\\kushbab\\anaconda3\\envs\\lip-reading\\lib\\site-packages (from requests<3,>=2.21.0->tensorboard~=2.4->tensorflow-gpu) (2.10)\n",
      "Requirement already satisfied: urllib3<1.27,>=1.21.1 in c:\\users\\kushbab\\anaconda3\\envs\\lip-reading\\lib\\site-packages (from requests<3,>=2.21.0->tensorboard~=2.4->tensorflow-gpu) (1.26.4)\n",
      "Requirement already satisfied: certifi>=2017.4.17 in c:\\users\\kushbab\\anaconda3\\envs\\lip-reading\\lib\\site-packages (from requests<3,>=2.21.0->tensorboard~=2.4->tensorflow-gpu) (2020.12.5)\n",
      "Requirement already satisfied: chardet<5,>=3.0.2 in c:\\users\\kushbab\\anaconda3\\envs\\lip-reading\\lib\\site-packages (from requests<3,>=2.21.0->tensorboard~=2.4->tensorflow-gpu) (4.0.0)\n",
      "Requirement already satisfied: oauthlib>=3.0.0 in c:\\users\\kushbab\\anaconda3\\envs\\lip-reading\\lib\\site-packages (from requests-oauthlib>=0.7.0->google-auth-oauthlib<0.5,>=0.4.1->tensorboard~=2.4->tensorflow-gpu) (3.1.0)\n",
      "Requirement already satisfied: zipp>=0.5 in c:\\users\\kushbab\\anaconda3\\envs\\lip-reading\\lib\\site-packages (from importlib-metadata->markdown>=2.6.8->tensorboard~=2.4->tensorflow-gpu) (3.4.1)\n"
     ]
    }
   ],
   "source": [
    "!pip3 install --upgrade tensorflow-gpu --user"
   ]
  },
  {
   "cell_type": "code",
   "execution_count": null,
   "metadata": {},
   "outputs": [],
   "source": [
    "!conda install -y -c conda-forge librosa"
   ]
  },
  {
   "cell_type": "code",
   "execution_count": 1,
   "metadata": {},
   "outputs": [],
   "source": [
    "import librosa\n",
    "import torch\n",
    "from transformers import Wav2Vec2ForCTC, Wav2Vec2Tokenizer\n",
    "import os\n",
    "import pandas as pd"
   ]
  },
  {
   "cell_type": "code",
   "execution_count": 2,
   "metadata": {},
   "outputs": [],
   "source": [
    "tokenizer = Wav2Vec2Tokenizer.from_pretrained(\"facebook/wav2vec2-base-960h\")\n",
    "model = Wav2Vec2ForCTC.from_pretrained(\"facebook/wav2vec2-base-960h\", )"
   ]
  },
  {
   "cell_type": "code",
   "execution_count": 3,
   "metadata": {},
   "outputs": [],
   "source": [
    "tokens = {\"_\": 0, \"<s>\": 1, \"</s>\": 2, \"<unk>\": 3, \"|\": 4, \"E\": 5, \"T\": 6, \"A\": 7, \"O\": 8, \"N\": 9, \"I\": 10, \"H\": 11, \"S\": 12, \"R\": 13, \"D\": 14, \"L\": 15, \"U\": 16, \"M\": 17, \"W\": 18, \"C\": 19, \"F\": 20, \"G\": 21, \"Y\": 22, \"P\": 23, \"B\": 24, \"V\": 25, \"K\": 26, \"'\": 27, \"X\": 28, \"J\": 29, \"Q\": 30, \"Z\": 31}\n",
    "rev_tokens = {value : key for (key, value) in tokens.items()}\n",
    "extra_tokens = { 'bos_token' :\"<s>\" , 'eos_token' :\"</s>\" , 'unk_token' : \"<unk>\" , 'pad_token' : \"_\" , 'word_delimiter_token' : \"|\" }\n",
    "rev_extra_tokens = {value : key for (key, value) in extra_tokens.items()}"
   ]
  },
  {
   "cell_type": "code",
   "execution_count": 4,
   "metadata": {},
   "outputs": [],
   "source": [
    "def audio2ctc(audio):\n",
    "    audio, rate = librosa.load(audio, sr = 16000, )\n",
    "    input_values = tokenizer(audio, return_tensors = \"pt\").input_values\n",
    "    logits = model(input_values).logits\n",
    "    prediction = torch.argmax(logits, dim = -1)\n",
    "    transcription = tokenizer.batch_decode(prediction)[0]\n",
    "    ctc = ''\n",
    "    for a in prediction.numpy()[0]:\n",
    "        ctc += rev_tokens[a]\n",
    "    return ctc,transcription"
   ]
  },
  {
   "cell_type": "code",
   "execution_count": 15,
   "metadata": {},
   "outputs": [
    {
     "name": "stdout",
     "output_type": "stream",
     "text": [
      "s1\n",
      "s10\n",
      "s11\n",
      "s12\n",
      "s13\n",
      "s14\n",
      "s15\n",
      "s16\n",
      "s17\n",
      "s18\n",
      "s19\n",
      "s2\n",
      "s20\n",
      "s21\n",
      "s22\n",
      "s23\n",
      "s24\n",
      "s25\n",
      "s26\n",
      "s27\n",
      "s28\n",
      "s29\n",
      "s3\n",
      "s30\n",
      "s31\n",
      "s32\n",
      "s33\n",
      "s34\n",
      "s4\n",
      "s5\n",
      "s6\n",
      "s7\n",
      "s8\n",
      "s9\n"
     ]
    }
   ],
   "source": [
    "max_len = 0\n",
    "ids = []\n",
    "ctc_texts = []\n",
    "trans = []\n",
    "for speaker in os.listdir('grid_corpus/audio/'):\n",
    "    print(speaker)\n",
    "    if speaker == 's21':\n",
    "        continue\n",
    "    for file in os.listdir('grid_corpus/audio/'+speaker+'/'):\n",
    "        file_path = 'grid_corpus/audio/'+speaker+'/'+file\n",
    "        ctc_text ,transcription = audio2ctc(file_path)\n",
    "        ctc_texts.append(ctc_text)\n",
    "        trans.append(transcription)\n",
    "        ids.append(speaker+'_'+file[:-4])\n",
    "        max_len = max(max_len,len(ctc_text))\n",
    "ctc_textss = []\n",
    "for text in ctc_texts:\n",
    "    ctc_textss.append(text+''.join(['_' for i in range(max_len - len(text))]))"
   ]
  },
  {
   "cell_type": "code",
   "execution_count": 16,
   "metadata": {},
   "outputs": [],
   "source": [
    "df = pd.DataFrame(columns = ['ids','ctc_text','transcriptions'])\n",
    "df['ids'] = ids\n",
    "df['ctc_text'] = ctc_textss\n",
    "df['transcriptions'] = trans"
   ]
  },
  {
   "cell_type": "code",
   "execution_count": 17,
   "metadata": {},
   "outputs": [],
   "source": [
    "df.to_csv('y_label.csv')"
   ]
  },
  {
   "cell_type": "code",
   "execution_count": null,
   "metadata": {},
   "outputs": [],
   "source": []
  }
 ],
 "metadata": {
  "kernelspec": {
   "display_name": "Python 3",
   "language": "python",
   "name": "python3"
  },
  "language_info": {
   "codemirror_mode": {
    "name": "ipython",
    "version": 3
   },
   "file_extension": ".py",
   "mimetype": "text/x-python",
   "name": "python",
   "nbconvert_exporter": "python",
   "pygments_lexer": "ipython3",
   "version": "3.7.10"
  }
 },
 "nbformat": 4,
 "nbformat_minor": 4
}
