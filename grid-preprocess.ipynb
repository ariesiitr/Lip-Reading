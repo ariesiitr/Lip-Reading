{
 "cells": [
  {
   "cell_type": "code",
   "execution_count": null,
   "metadata": {},
   "outputs": [],
   "source": [
    "!conda install -y -c conda-forge dlib"
   ]
  },
  {
   "cell_type": "code",
   "execution_count": null,
   "metadata": {},
   "outputs": [],
   "source": [
    "!pip install sk-video"
   ]
  },
  {
   "cell_type": "code",
   "execution_count": null,
   "metadata": {},
   "outputs": [],
   "source": [
    "!conda install ffmpeg -y"
   ]
  },
  {
   "cell_type": "code",
   "execution_count": 1,
   "metadata": {},
   "outputs": [],
   "source": [
    "import numpy as np\n",
    "import dlib\n",
    "import cv2\n",
    "from skvideo.io import vread\n",
    "from sklearn.preprocessing import OneHotEncoder, LabelEncoder\n",
    "import os\n",
    "import pandas as pd\n",
    "import concurrent.futures\n",
    "import time"
   ]
  },
  {
   "cell_type": "code",
   "execution_count": 2,
   "metadata": {},
   "outputs": [],
   "source": [
    "detector = dlib.get_frontal_face_detector()\n",
    "predictor = dlib.shape_predictor(\"shape_predictor_68_face_landmarks.dat\")"
   ]
  },
  {
   "cell_type": "code",
   "execution_count": 3,
   "metadata": {},
   "outputs": [],
   "source": [
    "def get_rect(shape):\n",
    "    rw = 0\n",
    "    rh = 0\n",
    "    rx = 65535\n",
    "    ry = 65535\n",
    "    for (x,y) in shape:\n",
    "        rw = max(rw,x)\n",
    "        rh = max(rh,y)\n",
    "        rx = min(rx,x)\n",
    "        ry = min(ry,y)\n",
    "    return (rx,ry,rw-rx,rh-ry)\n",
    "\n",
    "def shape_to_np(shape, dtype=\"int\"):\n",
    "    \n",
    "    coords = np.zeros((shape.num_parts, 2), dtype=dtype)\n",
    "\n",
    "    for i in range(0, shape.num_parts):\n",
    "        coords[i] = (shape.part(i).x, shape.part(i).y)\n",
    "        \n",
    "    return coords"
   ]
  },
  {
   "cell_type": "code",
   "execution_count": 4,
   "metadata": {},
   "outputs": [],
   "source": [
    "def read_video(path):\n",
    "    \n",
    "    #print(\"loading: \" + path)\n",
    "    try:\n",
    "        video = vread(path)\n",
    "        frames = np.array([cv2.cvtColor(frame,cv2.COLOR_RGB2BGR) for frame in video])\n",
    "        mouth_video = get_frames_mouth(frames)\n",
    "        mouth_videoo = []\n",
    "        for frame in mouth_video:\n",
    "            mouth_videoo.append(frame)\n",
    "            mouth_videoo.append(frame)\n",
    "        mouth_video = mouth_videoo\n",
    "\n",
    "        return np.array(mouth_video)/255.0\n",
    "    except:\n",
    "        return None"
   ]
  },
  {
   "cell_type": "code",
   "execution_count": 5,
   "metadata": {},
   "outputs": [],
   "source": [
    "def get_frames_mouth(frames):\n",
    "    \n",
    "    global detector,predictor\n",
    "    mouth_frames = []\n",
    "    for frame_img in frames:\n",
    "        try:\n",
    "            rects = detector(cv2.resize(frame_img, None, fx=0.5, fy=0.5) , 1)\n",
    "            rects[0] = dlib.scale_rect(rects[0],1/0.5)\n",
    "            shape = predictor(image=frame_img,box=rects[0])\n",
    "            shape = shape_to_np(shape)\n",
    "            shape = [shape[x] for x in range(48,68)]\n",
    "            (x, y, w, h) = get_rect(shape)\n",
    "            for s in shape:\n",
    "                s[0] -= x\n",
    "                s[1] -= y\n",
    "            mouth = frame_img[y:y+h, x:x+w]\n",
    "            mouth = cv2.resize(mouth ,(100,50))\n",
    "            mouth_frames.append(mouth)\n",
    "        except:\n",
    "            return None\n",
    "    return mouth_frames"
   ]
  },
  {
   "cell_type": "code",
   "execution_count": null,
   "metadata": {},
   "outputs": [],
   "source": [
    "# JUST to CHECK\n",
    "check = read_video('grid_corpus/video/s1/prwq3s.mpg')\n",
    "print(check.shape)"
   ]
  },
  {
   "cell_type": "code",
   "execution_count": 10,
   "metadata": {},
   "outputs": [
    {
     "name": "stdout",
     "output_type": "stream",
     "text": [
      "33033\n",
      "Done\n"
     ]
    }
   ],
   "source": [
    "ids = []\n",
    "paths = []\n",
    "output_paths = []\n",
    "\n",
    "for speaker in os.listdir('grid_corpus/video/'):\n",
    "    if speaker in ['s21']:\n",
    "        continue\n",
    "    for file in os.listdir('grid_corpus/video/'+speaker+'/'):\n",
    "        file_path = 'grid_corpus/video/'+speaker+'/'+file\n",
    "        ids.append(speaker+'_'+file[:-4])\n",
    "        paths.append(file_path)\n",
    "        output_paths.append('x_data/'+speaker+'_'+file[:-4]+'.npy')\n",
    "\n",
    "#print(len(ids)) #  JUST to CHECK\n",
    "#st = time.time()\n",
    "\n",
    "def multiprocessing_func(file_path,output_path):\n",
    "    if output_path not in os.listdir('x_data'):\n",
    "        try:\n",
    "            if file_path[-4:] != '.mpg':\n",
    "                return \n",
    "            video = read_video(file_path)\n",
    "            if video is None:\n",
    "                print('error in ',file_path)\n",
    "            np.save(output_path, video)\n",
    "        except:\n",
    "            print('Error in ',file_path)\n",
    "\n",
    "with concurrent.futures.ProcessPoolExecutor() as executor:\n",
    "    executor.map(multiprocessing_func, paths, output_paths)\n",
    "#print('Time for '+speaker , time.time() - st)\n",
    "print('Done')"
   ]
  },
  {
   "cell_type": "code",
   "execution_count": null,
   "metadata": {},
   "outputs": [],
   "source": []
  }
 ],
 "metadata": {
  "kernelspec": {
   "display_name": "conda_python3",
   "language": "python",
   "name": "conda_python3"
  },
  "language_info": {
   "codemirror_mode": {
    "name": "ipython",
    "version": 3
   },
   "file_extension": ".py",
   "mimetype": "text/x-python",
   "name": "python",
   "nbconvert_exporter": "python",
   "pygments_lexer": "ipython3",
   "version": "3.6.13"
  }
 },
 "nbformat": 4,
 "nbformat_minor": 4
}
